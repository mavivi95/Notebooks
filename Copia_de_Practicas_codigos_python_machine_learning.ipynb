{
  "nbformat": 4,
  "nbformat_minor": 0,
  "metadata": {
    "colab": {
      "name": "Copia de Practicas_codigos_python_machine_learning.ipynb",
      "provenance": [],
      "collapsed_sections": [],
      "toc_visible": true,
      "mount_file_id": "1lSTJGulWeLAR3_h0Ck0h_2lHlhkSKMYx",
      "authorship_tag": "ABX9TyOu41KEWevnnD9duzk3JsUq",
      "include_colab_link": true
    },
    "kernelspec": {
      "name": "python3",
      "display_name": "Python 3"
    }
  },
  "cells": [
    {
      "cell_type": "markdown",
      "metadata": {
        "id": "view-in-github",
        "colab_type": "text"
      },
      "source": [
        "<a href=\"https://colab.research.google.com/github/mavivi95/Notebooks/blob/main/Copia_de_Practicas_codigos_python_machine_learning.ipynb\" target=\"_parent\"><img src=\"https://colab.research.google.com/assets/colab-badge.svg\" alt=\"Open In Colab\"/></a>"
      ]
    },
    {
      "cell_type": "markdown",
      "metadata": {
        "id": "RVfC0fWLj96t"
      },
      "source": [
        "##Practicas codigos Python y Machine Learning"
      ]
    },
    {
      "cell_type": "markdown",
      "metadata": {
        "id": "Aan-4cLqkhzC"
      },
      "source": [
        "Para comenzar cargar las librerias de Python necesarias en las técnicas de Machine Learning. Las librerias y clases importadas en el orden del código del bloque siguiente son:\n",
        " \n",
        "\n",
        "* **csv**: para importar datos en formato csv\n",
        "*   **Numpy**: para el trabajo con datos matriciales\n",
        "*   **sklearn.model_selection**, función **train_test_split** para segmentar de manera adecuada el conjunto de datos en entrenamineto y prueba\n",
        "*  **sklearn.preprocessing**, función **SrandadScaler** para estandarizar los datos y evitar problemas con unidades desbalanceadas\n",
        "* **sklearn.linear_model**, función **Perceptron** para establer la clase del perceptron. Esta clase tienes los metodos para entrenarlo y analizar su rendimiento\n",
        "* **matplotlib.plot** libreria empleada para realizar gráficas en python\n",
        "\n"
      ]
    },
    {
      "cell_type": "code",
      "metadata": {
        "id": "C5OyNRHbkgq0"
      },
      "source": [
        "import csv\n",
        "import numpy as np\n",
        "from sklearn.model_selection import train_test_split\n",
        "from sklearn.preprocessing import StandardScaler\n",
        "from sklearn.linear_model import Perceptron\n",
        "import matplotlib.pyplot as plt"
      ],
      "execution_count": null,
      "outputs": []
    },
    {
      "cell_type": "code",
      "metadata": {
        "id": "DT2auxfy66AV"
      },
      "source": [
        "from matplotlib.colors import ListedColormap\n",
        "import matplotlib.pyplot as plt\n",
        "\n",
        "\n",
        "def plot_decision_regions(X, y, classifier, test_idx=None, resolution=0.02):\n",
        "\n",
        "    # setup marker generator and color map\n",
        "    markers = ('s', 'x', 'o', '^', 'v')\n",
        "    colors = ('red', 'cyan', 'lightgreen', 'gray', 'blue')\n",
        "    cmap = ListedColormap(colors[:len(np.unique(y))])\n",
        "\n",
        "    # plot the decision surface\n",
        "    x1_min, x1_max = X[:, 0].min() - 1, X[:, 0].max() + 1\n",
        "    x2_min, x2_max = X[:, 1].min() - 1, X[:, 1].max() + 1\n",
        "    xx1, xx2 = np.meshgrid(np.arange(x1_min, x1_max, resolution),\n",
        "                           np.arange(x2_min, x2_max, resolution))\n",
        "    Z = classifier.predict(np.array([xx1.ravel(), xx2.ravel()]).T)\n",
        "    Z = Z.reshape(xx1.shape)\n",
        "    plt.contourf(xx1, xx2, Z, alpha=0.3, cmap=cmap)\n",
        "    plt.xlim(xx1.min(), xx1.max())\n",
        "    plt.ylim(xx2.min(), xx2.max())\n",
        "\n",
        "    for idx, cl in enumerate(np.unique(y)):\n",
        "        plt.scatter(x=X[y == cl, 0], \n",
        "                    y=X[y == cl, 1],\n",
        "                    alpha=0.8, \n",
        "                    c=colors[idx],\n",
        "                    marker=markers[idx], \n",
        "                    label=cl, \n",
        "                    edgecolor='black')\n",
        "\n",
        "    # highlight test samples\n",
        "    if test_idx:\n",
        "        # plot all samples\n",
        "        X_test, y_test = X[test_idx, :], y[test_idx]\n",
        "\n",
        "        plt.scatter(X_test[:, 0],\n",
        "                    X_test[:, 1],\n",
        "                    c='',\n",
        "                    edgecolor='black',\n",
        "                    alpha=1.0,\n",
        "                    linewidth=1,\n",
        "                    marker='o',\n",
        "                    s=100, \n",
        "                    label='test set')"
      ],
      "execution_count": null,
      "outputs": []
    },
    {
      "cell_type": "markdown",
      "metadata": {
        "id": "NVJn28Ony5Ee"
      },
      "source": [
        "###Calidad del Vino Rojo\n",
        "\n",
        "Los datos corresponden a 1599 muestras del producto \"Vino Verde Tinto\" que incluyen 11 características fisicoquímicas del producto y una columna de etiquetas donde se calificó por un experto la calidad del vino en una escala de (0-10) puntos, siendo 10 la mejor calidad.\n",
        "\n",
        "* Acidez fija\n",
        "* Acidez volátil \n",
        "* Acido cítrico\n",
        "* Azúcar residual\n",
        "* Cloruros\n",
        "* Dióxido de azufre libre \n",
        "* Dióxido de azufre total\n",
        "* Densidad\n",
        "* pH\n",
        "* Alcohol"
      ]
    },
    {
      "cell_type": "code",
      "metadata": {
        "colab": {
          "base_uri": "https://localhost:8080/"
        },
        "id": "Hbc6FtkEj9Cx",
        "outputId": "b311fe68-1153-4826-af1a-989e6064ad22"
      },
      "source": [
        "from numpy import genfromtxt\n",
        "data_with_header = genfromtxt('/content/drive/MyDrive/Dataset/winequality-red.csv', delimiter=';')\n",
        "data = data_with_header[1::,:]\n",
        "\n",
        "x = data[:,0:-1]\n",
        "y = []\n",
        "for label in data[:,-1]:  y.append(int(label)) \n",
        "#data\n",
        "print('Numero de clases - Calidad vino rojo:', np.unique(y))\n"
      ],
      "execution_count": null,
      "outputs": [
        {
          "output_type": "stream",
          "text": [
            "Numero de clases - Calidad vino rojo: [3 4 5 6 7 8]\n"
          ],
          "name": "stdout"
        }
      ]
    },
    {
      "cell_type": "code",
      "metadata": {
        "colab": {
          "base_uri": "https://localhost:8080/"
        },
        "id": "q_RY8mijsurU",
        "outputId": "e13ec6c2-42b0-477d-8394-8aa230fa0273"
      },
      "source": [
        "X_train, X_test, y_train, y_test = train_test_split(x, y, test_size=0.3, random_state=1, stratify=y)\n",
        "print('Datos en y_train:', np.bincount(y))\n",
        "print('Datos en y_train:', np.bincount(y_train))\n",
        "print('Datos en y_test:', np.bincount(y_test))"
      ],
      "execution_count": null,
      "outputs": [
        {
          "output_type": "stream",
          "text": [
            "Datos en y_train: [  0   0   0  10  53 681 638 199  18]\n",
            "Datos en y_train: [  0   0   0   7  37 477 446 139  13]\n",
            "Datos en y_test: [  0   0   0   3  16 204 192  60   5]\n"
          ],
          "name": "stdout"
        }
      ]
    },
    {
      "cell_type": "markdown",
      "metadata": {
        "id": "YQR72sSHzIr9"
      },
      "source": [
        "Como se puede apreciar, las clases estan desbalanceadas inicialmente no hay calificaciones de 0 a 2 en calificaciones de la calidad, hay muy pocos datos calificados en 3 y muy pocos para 8. Por esa razon se creará un nuevo vector de etiquetas, los valores menores o iguales a 6 crearan una clase y los valores mayores la otra."
      ]
    },
    {
      "cell_type": "code",
      "metadata": {
        "colab": {
          "base_uri": "https://localhost:8080/"
        },
        "id": "0rtVTRhlyxgO",
        "outputId": "bbe95004-da18-4aeb-d820-4666c8c4ff85"
      },
      "source": [
        "y_binary = []\n",
        "for label in data[:,-1]:  \n",
        "  if label >= 6: y_binary.append(0)\n",
        "  else: y_binary.append(1)\n",
        "print('Numero de clases - Calidad vino rojo:', np.unique(y_binary))"
      ],
      "execution_count": null,
      "outputs": [
        {
          "output_type": "stream",
          "text": [
            "Numero de clases - Calidad vino rojo: [0 1]\n"
          ],
          "name": "stdout"
        }
      ]
    },
    {
      "cell_type": "code",
      "metadata": {
        "colab": {
          "base_uri": "https://localhost:8080/"
        },
        "id": "TG47z-fB0yNM",
        "outputId": "d7db0a66-7591-4243-87df-869c50e5d731"
      },
      "source": [
        "X_train, X_test, y_train, y_test = train_test_split(x, y_binary, test_size=0.3, random_state=1, stratify=y_binary)\n",
        "print('Datos totales por etiqueta:', np.bincount(y_binary))\n",
        "print('Datos en y_train:', np.bincount(y_train))\n",
        "print('Datos en y_test:', np.bincount(y_test))"
      ],
      "execution_count": null,
      "outputs": [
        {
          "output_type": "stream",
          "text": [
            "Datos totales por etiqueta: [855 744]\n",
            "Datos en y_train: [598 521]\n",
            "Datos en y_test: [257 223]\n"
          ],
          "name": "stdout"
        }
      ]
    },
    {
      "cell_type": "markdown",
      "metadata": {
        "id": "fhJ8hXLlRvF_"
      },
      "source": [
        "El objeto StandarScaler permite estandarizar los datos. Primero se construye el objeto, con el método *fit* se calcula la media y la desviación estandar del conjunto de datos, con el método *transform* realiza la centralización y estandarización de los datos. Si se desea tambien esta disponible el método *fit_transform* el cual primero ejecuta la rutina *fit* seguida por la rutina *transform*\n",
        "\n",
        "Documentación de la clase:\n",
        "\n",
        "https://scikit-learn.org/stable/modules/generated/sklearn.preprocessing.StandardScaler.html\n"
      ]
    },
    {
      "cell_type": "code",
      "metadata": {
        "id": "46StS2uUiw8n",
        "colab": {
          "base_uri": "https://localhost:8080/"
        },
        "outputId": "e4bd3564-71dd-4702-9a45-47e2cdd495e2"
      },
      "source": [
        "#from sklearn.preprocessing import StandardScaler\n",
        "sc = StandardScaler()\n",
        "sc.fit(X_train)\n",
        "X_train_std = sc.transform(X_train)\n",
        "X_test_std = sc.fit_transform(X_test)\n",
        "print(X_train_std)"
      ],
      "execution_count": null,
      "outputs": [
        {
          "output_type": "stream",
          "text": [
            "[[ 4.26040881  0.69402716  1.13621356 ... -2.64121515  0.54063364\n",
            "   0.64288463]\n",
            " [-0.60667593 -0.17731226 -0.90207707 ... -0.04913265 -1.15430921\n",
            "   0.07787101]\n",
            " [-0.13755933  0.83456577  1.44979674 ... -0.93589771 -0.21267429\n",
            "  -0.95798731]\n",
            " ...\n",
            " [ 0.33155728 -0.2335277   1.34526901 ... -0.66304693 -0.40100128\n",
            "   1.58457401]\n",
            " [-1.1344321   1.53725885 -1.42471569 ...  1.2469086  -0.8404309\n",
            "   1.11372932]\n",
            " [ 1.03523218 -1.35783663  0.97942198 ... -1.82266278  0.85451195\n",
            "  -0.20463581]]\n"
          ],
          "name": "stdout"
        }
      ]
    },
    {
      "cell_type": "markdown",
      "metadata": {
        "id": "UBy3yzdKwDgf"
      },
      "source": [
        "Con los datos centralizados y estandarizados se realiza la llamada a la libreria **sklearn** en la clase **linear_model** y la función **Perceptron**, esta función crea una estructrua de clasificador a partir de los datos de prueba, el número de iteraciones y la razon de aprendizaje. \n",
        "\n",
        "Documentación de la libreria: https://scikit-learn.org/stable/modules/generated/sklearn.linear_model.Perceptron.html#sklearn.linear_model.Perceptron"
      ]
    },
    {
      "cell_type": "code",
      "metadata": {
        "colab": {
          "base_uri": "https://localhost:8080/"
        },
        "id": "viTTAoNyiw8n",
        "outputId": "b6163052-ec62-4bf0-cacf-92b7dbbb4de5"
      },
      "source": [
        "from sklearn.linear_model import Perceptron\n",
        "\n",
        "ppn = Perceptron(max_iter=40, eta0=0.1, random_state=1)\n",
        "ppn.fit(X_train_std, y_train)"
      ],
      "execution_count": null,
      "outputs": [
        {
          "output_type": "execute_result",
          "data": {
            "text/plain": [
              "Perceptron(alpha=0.0001, class_weight=None, early_stopping=False, eta0=0.1,\n",
              "           fit_intercept=True, max_iter=40, n_iter_no_change=5, n_jobs=None,\n",
              "           penalty=None, random_state=1, shuffle=True, tol=0.001,\n",
              "           validation_fraction=0.1, verbose=0, warm_start=False)"
            ]
          },
          "metadata": {
            "tags": []
          },
          "execution_count": 15
        }
      ]
    },
    {
      "cell_type": "markdown",
      "metadata": {
        "id": "4NZbUWZlv60g"
      },
      "source": [
        "Con el clasificador creado se procede a realizar una prueba con los datos separados previamente. "
      ]
    },
    {
      "cell_type": "code",
      "metadata": {
        "id": "z2ofcSxviw8o",
        "colab": {
          "base_uri": "https://localhost:8080/"
        },
        "outputId": "6a7232e2-4548-480e-9c53-b859c2095301"
      },
      "source": [
        "y_pred = ppn.predict(X_test_std)\n",
        "print('Datos mal clasificados: %d' % (y_test != y_pred).sum())\n",
        "print('Precisión: %.2f' % ppn.score(X_test_std, y_test))"
      ],
      "execution_count": null,
      "outputs": [
        {
          "output_type": "stream",
          "text": [
            "Datos mal clasificados: 199\n",
            "Precisión: 0.59\n"
          ],
          "name": "stdout"
        }
      ]
    },
    {
      "cell_type": "markdown",
      "metadata": {
        "id": "dJJlcFlXvkGr"
      },
      "source": [
        "Como se puede observar la precision del clasificador empleado es del baja, esto al realizar la primera prueba con los datos de Test. \n",
        "\n",
        "A continuación, se realizará el mismo procedimiento pero primero se ejecutará la transformación a dos componentes principales, para eso se emplea de la misma libreria la clase **decomposition** en el metodo *PCA*\n"
      ]
    },
    {
      "cell_type": "code",
      "metadata": {
        "id": "qwfmwekk3A5z"
      },
      "source": [
        "from sklearn import decomposition\n",
        "pca = decomposition.PCA(n_components=2)\n",
        "pca.fit(x)\n",
        "X_pca = pca.transform(x)"
      ],
      "execution_count": null,
      "outputs": []
    },
    {
      "cell_type": "code",
      "metadata": {
        "colab": {
          "base_uri": "https://localhost:8080/",
          "height": 295
        },
        "id": "U8eNN4gy3ysU",
        "outputId": "c411a1dc-fd6d-4cac-a428-82804e498f02"
      },
      "source": [
        "import matplotlib.pyplot as plt\n",
        "colors = ('red', 'blue')\n",
        "k = 0\n",
        "for point in X_pca:\n",
        "  plt.scatter(point[0],point[1], c=colors[y_binary[k]])\n",
        "  k +=1\n",
        "#plt.scatter(X_pca[:,0],X_pca[:,1])\n",
        "plt.xlabel('Primer componente principal')\n",
        "plt.ylabel('Segundo componente principal')\n",
        "plt.title('PCA 2 componentes')\n",
        "plt.show()"
      ],
      "execution_count": null,
      "outputs": [
        {
          "output_type": "display_data",
          "data": {
            "image/png": "[encoded data removed]",
            "text/plain": [
              "<Figure size 432x288 with 1 Axes>"
            ]
          },
          "metadata": {
            "tags": [],
            "needs_background": "light"
          }
        }
      ]
    },
    {
      "cell_type": "code",
      "metadata": {
        "colab": {
          "base_uri": "https://localhost:8080/"
        },
        "id": "45weTvdO4aBK",
        "outputId": "5d18644e-1218-4d2a-ce48-a8e3d88045d2"
      },
      "source": [
        "X_train, X_test, y_train, y_test = train_test_split(X_pca, y_binary, test_size=0.3, random_state=1, stratify=y_binary)\n",
        "print('Datos totales:', np.bincount(y_binary))\n",
        "print('Datos en y_train:', np.bincount(y_train))\n",
        "print('Datos en y_test:', np.bincount(y_test))"
      ],
      "execution_count": null,
      "outputs": [
        {
          "output_type": "stream",
          "text": [
            "Datos totales: [855 744]\n",
            "Datos en y_train: [598 521]\n",
            "Datos en y_test: [257 223]\n"
          ],
          "name": "stdout"
        }
      ]
    },
    {
      "cell_type": "code",
      "metadata": {
        "colab": {
          "base_uri": "https://localhost:8080/"
        },
        "id": "rAMgd5Pm4dIQ",
        "outputId": "d21df643-863a-49a9-ce12-5a8ba3b621df"
      },
      "source": [
        "sc = StandardScaler()\n",
        "sc.fit(X_train)\n",
        "X_train_std = sc.transform(X_train)\n",
        "X_test_std = sc.fit_transform(X_test)\n",
        "ppn_pca = Perceptron(max_iter=40, eta0=0.1, random_state=1)\n",
        "ppn_pca.fit(X_train_std, y_train)"
      ],
      "execution_count": null,
      "outputs": [
        {
          "output_type": "execute_result",
          "data": {
            "text/plain": [
              "Perceptron(alpha=0.0001, class_weight=None, early_stopping=False, eta0=0.1,\n",
              "           fit_intercept=True, max_iter=40, n_iter_no_change=5, n_jobs=None,\n",
              "           penalty=None, random_state=1, shuffle=True, tol=0.001,\n",
              "           validation_fraction=0.1, verbose=0, warm_start=False)"
            ]
          },
          "metadata": {
            "tags": []
          },
          "execution_count": 20
        }
      ]
    },
    {
      "cell_type": "code",
      "metadata": {
        "colab": {
          "base_uri": "https://localhost:8080/"
        },
        "id": "TkAWE-jB4jRm",
        "outputId": "f9690dcb-b951-4b92-e8c3-580164c4e167"
      },
      "source": [
        "y_pred = ppn_pca.predict(X_test_std)\n",
        "print('Datos mal clasificados: %d' % (y_test != y_pred).sum())\n",
        "print('Precisión: %.2f' % ppn_pca.score(X_test_std, y_test))"
      ],
      "execution_count": null,
      "outputs": [
        {
          "output_type": "stream",
          "text": [
            "Datos mal clasificados: 194\n",
            "Precisión: 0.60\n"
          ],
          "name": "stdout"
        }
      ]
    },
    {
      "cell_type": "code",
      "metadata": {
        "colab": {
          "base_uri": "https://localhost:8080/",
          "height": 297
        },
        "id": "POzWhrZv6_zn",
        "outputId": "e9ef081c-aad8-406f-b46f-2f727605f7e6"
      },
      "source": [
        "plot_decision_regions(X=X_train_std, y=y_train,\n",
        "                      classifier=ppn_pca)\n",
        "plt.xlabel('Primer componente principal')\n",
        "plt.ylabel('Segundo componente pricipal')\n",
        "plt.legend(loc='upper left')\n",
        "\n",
        "plt.tight_layout()\n",
        "plt.show()"
      ],
      "execution_count": null,
      "outputs": [
        {
          "output_type": "display_data",
          "data": {
            "image/png": "[encoded data removed]",
            "text/plain": [
              "<Figure size 432x288 with 1 Axes>"
            ]
          },
          "metadata": {
            "tags": [],
            "needs_background": "light"
          }
        }
      ]
    },
    {
      "cell_type": "markdown",
      "metadata": {
        "id": "L56gBGjoxYxk"
      },
      "source": [
        "### Datos espectográfia óptica de fluorescencia para detección de CCU\n",
        "Los datos corresponden a 152 mujeres patológicas y no patológicas, los vectores por individuo tienen una longitud de 36 características que corresponden al análisis de la señal de espectroscopia. Esta señal se compone de 5 formas gaussianas y cada forma presenta características que se asocian con la presencia de cáncer de cuello uterino.  Para el ejercicio se cuenta con datos etiquetados por un experto, en las categorías de patológico o no."
      ]
    },
    {
      "cell_type": "code",
      "metadata": {
        "colab": {
          "base_uri": "https://localhost:8080/"
        },
        "id": "ajAZBRl2xkaC",
        "outputId": "131090ac-7786-4dfe-f3e2-256dbc36ba1e"
      },
      "source": [
        "import scipy.io as sio\n",
        "data = sio.loadmat('/content/drive/MyDrive/Dataset/dataCancer.mat')\n",
        "data = data['X']\n",
        "x = data[:,0:-1]\n",
        "y = []\n",
        "for label in data[:,-1]:  y.append(int(label)) \n",
        "print('Numero de clases - Datos CCU:', np.unique(y))\n",
        "print(data)"
      ],
      "execution_count": null,
      "outputs": [
        {
          "output_type": "stream",
          "text": [
            "Numero de clases - Datos CCU: [1 2]\n",
            "[[6.6468858e-01 3.4000124e+02 2.9976724e+01 ... 5.4214194e+00\n",
            "  2.8136896e+02 1.0000000e+00]\n",
            " [7.3254198e-01 3.4000000e+02 2.6691678e+01 ... 4.8233393e+00\n",
            "  2.7706597e+02 1.0000000e+00]\n",
            " [7.6307098e-01 3.5126473e+02 3.9999704e+01 ... 4.4388355e+00\n",
            "  2.4182813e+02 1.0000000e+00]\n",
            " ...\n",
            " [5.7104038e-01 3.5523214e+02 3.4921031e+01 ... 4.3763408e-01\n",
            "  5.3171930e+01 2.0000000e+00]\n",
            " [5.4217837e-01 3.6801723e+02 3.9869415e+01 ... 4.3057096e-01\n",
            "  5.9919552e+01 2.0000000e+00]\n",
            " [4.7348589e-01 3.6114126e+02 2.3020306e+01 ... 3.2452778e-01\n",
            "  4.7762056e+01 2.0000000e+00]]\n"
          ],
          "name": "stdout"
        }
      ]
    },
    {
      "cell_type": "markdown",
      "metadata": {
        "id": "gysOIEUazkpG"
      },
      "source": [
        "Para estos datos se hará primero la extracción de las componentes principales, pero es necesario previamente estandarizar los datos. "
      ]
    },
    {
      "cell_type": "code",
      "metadata": {
        "id": "k9E1WG8-zkRm"
      },
      "source": [
        "sc = StandardScaler()\n",
        "sc.fit(x)\n",
        "x_std = sc.transform(x)"
      ],
      "execution_count": null,
      "outputs": []
    },
    {
      "cell_type": "code",
      "metadata": {
        "id": "niwjv-tx0Ijt"
      },
      "source": [
        "pca = decomposition.PCA(n_components=2)\n",
        "pca.fit(x_std)\n",
        "X_pca = pca.transform(x_std)"
      ],
      "execution_count": null,
      "outputs": []
    },
    {
      "cell_type": "code",
      "metadata": {
        "colab": {
          "base_uri": "https://localhost:8080/",
          "height": 295
        },
        "id": "as0iwgjg0Tvp",
        "outputId": "4f138278-48f0-42d2-ba52-316d7bc207fd"
      },
      "source": [
        "k = 0\n",
        "colors = ('red', 'blue')\n",
        "for point in X_pca:\n",
        "  plt.scatter(point[0],point[1], c=colors[y[k]-1])\n",
        "  k +=1\n",
        "#plt.scatter(X_pca[:,0],X_pca[:,1])\n",
        "plt.xlabel('Primer componente principal')\n",
        "plt.ylabel('Segundo componente principal')\n",
        "plt.title('PCA 2 componentes')\n",
        "plt.show()"
      ],
      "execution_count": null,
      "outputs": [
        {
          "output_type": "display_data",
          "data": {
            "image/png": "[encoded data removed]",
            "text/plain": [
              "<Figure size 432x288 with 1 Axes>"
            ]
          },
          "metadata": {
            "tags": [],
            "needs_background": "light"
          }
        }
      ]
    },
    {
      "cell_type": "markdown",
      "metadata": {
        "id": "IYyF3fux14mW"
      },
      "source": [
        "Ahora se establecen la division de datos entre entrenamiento y prueba. \n"
      ]
    },
    {
      "cell_type": "code",
      "metadata": {
        "colab": {
          "base_uri": "https://localhost:8080/"
        },
        "id": "01b6hDSJ2Ccv",
        "outputId": "040a5407-fcea-4d33-e566-9055627a2938"
      },
      "source": [
        "X_train, X_test, y_train, y_test = train_test_split(X_pca, y, test_size=0.3, random_state=1, stratify=y)\n",
        "print('Datos totales:', np.bincount(y))\n",
        "print('Datos en y_train:', np.bincount(y_train))\n",
        "print('Datos en y_test:', np.bincount(y_test))"
      ],
      "execution_count": null,
      "outputs": [
        {
          "output_type": "stream",
          "text": [
            "Datos totales: [ 0 76 76]\n",
            "Datos en y_train: [ 0 53 53]\n",
            "Datos en y_test: [ 0 23 23]\n"
          ],
          "name": "stdout"
        }
      ]
    },
    {
      "cell_type": "code",
      "metadata": {
        "colab": {
          "base_uri": "https://localhost:8080/"
        },
        "id": "TpTLNq3r2dsU",
        "outputId": "424f6ba2-3d9a-4be6-bdae-db19f94fab2a"
      },
      "source": [
        "ppn_ccu = Perceptron(max_iter=10, eta0=0.2, random_state=1)\n",
        "ppn_ccu.fit(X_train, y_train, verbose=2)\n"
      ],
      "execution_count": null,
      "outputs": [
        {
          "output_type": "execute_result",
          "data": {
            "text/plain": [
              "Perceptron(alpha=0.0001, class_weight=None, early_stopping=False, eta0=0.2,\n",
              "           fit_intercept=True, max_iter=10, n_iter_no_change=5, n_jobs=None,\n",
              "           penalty=None, random_state=1, shuffle=True, tol=0.001,\n",
              "           validation_fraction=0.1, verbose=0, warm_start=False)"
            ]
          },
          "metadata": {
            "tags": []
          },
          "execution_count": 28
        }
      ]
    },
    {
      "cell_type": "code",
      "metadata": {
        "colab": {
          "base_uri": "https://localhost:8080/"
        },
        "id": "NxyN0lnC5Qdu",
        "outputId": "b49821be-45a9-47cf-a520-d72c6f9b6caf"
      },
      "source": [
        "print('W1: %.3f;' % ppn_ccu.coef_[0][0], ' W2: %.3f' % ppn_ccu.coef_[0][1])\n",
        "print('Intercepto: %.3f' % ppn_ccu.intercept_)"
      ],
      "execution_count": null,
      "outputs": [
        {
          "output_type": "stream",
          "text": [
            "W1: -1.160;  W2: -0.111\n",
            "Intercepto: -0.200\n"
          ],
          "name": "stdout"
        }
      ]
    },
    {
      "cell_type": "code",
      "metadata": {
        "colab": {
          "base_uri": "https://localhost:8080/"
        },
        "id": "44-P_s3C2oFI",
        "outputId": "3acc32b6-5da1-4a6a-820d-e284d11c5e81"
      },
      "source": [
        "y_pred = ppn_ccu.predict(X_test)\n",
        "print('Datos mal clasificados: %d' % (y_test != y_pred).sum())\n",
        "print('Precisión: %.2f' % ppn_ccu.score(X_test, y_test))"
      ],
      "execution_count": null,
      "outputs": [
        {
          "output_type": "stream",
          "text": [
            "Datos mal clasificados: 0\n",
            "Precisión: 1.00\n"
          ],
          "name": "stdout"
        }
      ]
    },
    {
      "cell_type": "code",
      "metadata": {
        "colab": {
          "base_uri": "https://localhost:8080/",
          "height": 297
        },
        "id": "0D_nWVjA21Sc",
        "outputId": "227ff444-b949-44dc-8459-a5ccb70aacb1"
      },
      "source": [
        "plot_decision_regions(X=X_train, y=y_train,\n",
        "                      classifier=ppn_ccu)\n",
        "plt.xlabel('Primer componente principal')\n",
        "plt.ylabel('Segundo componente pricipal')\n",
        "plt.legend(loc='upper left')\n",
        "\n",
        "plt.tight_layout()\n",
        "plt.show()"
      ],
      "execution_count": null,
      "outputs": [
        {
          "output_type": "display_data",
          "data": {
            "image/png": "[encoded data removed]",
            "text/plain": [
              "<Figure size 432x288 with 1 Axes>"
            ]
          },
          "metadata": {
            "tags": [],
            "needs_background": "light"
          }
        }
      ]
    },
    {
      "cell_type": "markdown",
      "metadata": {
        "id": "BzVxUMpik7b3"
      },
      "source": [
        "## Clasificadores No lineales"
      ]
    },
    {
      "cell_type": "markdown",
      "metadata": {
        "id": "eFTr2Y04xzup"
      },
      "source": [
        "En esta sección se realizará la construcción de un clasificador no lineal, en este caso se probará con un perceptron multicapa de la libreria Sklearn. El conjuntos de datos para esta fase corresponde a una aplicación de clasificación de vidrios, se cuenta con X datos divididos en 2 clases: vidrios para la contrucción de ventanas procesados y no procesados. El vector de caracteristicas se compone de 9 atributos numericos :\n",
        "\n",
        "* RI: Indice de refracción\n",
        "* Na: Sodio presente en el vidrio, unidad de medida porcentaje de peso presente en oxido\n",
        "* Mg: Magnesio\n",
        "* Al: Aluminio\n",
        "* Si: Silicon\n",
        "* K: Potasio\n",
        "* Ca: Calcio\n",
        "* Ba: Bario\n",
        "* Fe: Hierro\n",
        "\n",
        "Base de datos: https://archive.ics.uci.edu/ml/datasets/glass+identification"
      ]
    },
    {
      "cell_type": "code",
      "metadata": {
        "colab": {
          "base_uri": "https://localhost:8080/"
        },
        "id": "udX4l6jCk7D5",
        "outputId": "1c6c7e91-de65-4632-b8b8-519604b6badb"
      },
      "source": [
        "import scipy.io as sio\n",
        "data = sio.loadmat('/content/drive/MyDrive/Dataset/data_glass.mat')\n",
        "data = data['data']\n",
        "x = data[0:146,0:-1]\n",
        "y = []\n",
        "for label in data[0:146,-1]:  y.append(int(label)) \n",
        "print('Numero de clases - Datos Clasificación de vidrio:', np.unique(y))\n"
      ],
      "execution_count": null,
      "outputs": [
        {
          "output_type": "stream",
          "text": [
            "Numero de clases - Datos Clasificación de vidrio: [1 2]\n"
          ],
          "name": "stdout"
        }
      ]
    },
    {
      "cell_type": "markdown",
      "metadata": {
        "id": "uOezaGiCzath"
      },
      "source": [
        "El anterior bloque de codigo importa los datos y presenta el número de etiquetas presentes."
      ]
    },
    {
      "cell_type": "code",
      "metadata": {
        "colab": {
          "base_uri": "https://localhost:8080/"
        },
        "id": "x-Lnz-f5lr4E",
        "outputId": "26bcae90-88ba-42dc-e9b9-6f1b4073efcf"
      },
      "source": [
        "X_train, X_test, y_train, y_test = train_test_split(x, y, test_size=0.3, random_state=1, stratify=y)\n",
        "print('Datos en y_train:', np.bincount(y_binary))\n",
        "print('Datos en y_train:', np.bincount(y_train))\n",
        "print('Datos en y_test:', np.bincount(y_test))"
      ],
      "execution_count": null,
      "outputs": [
        {
          "output_type": "stream",
          "text": [
            "Datos en y_train: [855 744]\n",
            "Datos en y_train: [ 0 49 53]\n",
            "Datos en y_test: [ 0 21 23]\n"
          ],
          "name": "stdout"
        }
      ]
    },
    {
      "cell_type": "code",
      "metadata": {
        "id": "vX6p8hvflsk7"
      },
      "source": [
        "sc = StandardScaler()\n",
        "sc.fit(X_train)\n",
        "X_train = sc.transform(X_train)\n",
        "X_test = sc.transform(X_test)"
      ],
      "execution_count": null,
      "outputs": []
    },
    {
      "cell_type": "markdown",
      "metadata": {
        "id": "hn7P6GGXzsJW"
      },
      "source": [
        "Se construye un clasificador perceptron multicapa con una capa oculta y de 5 neuronas, se indica un maximo de iteraciones en 500."
      ]
    },
    {
      "cell_type": "code",
      "metadata": {
        "colab": {
          "base_uri": "https://localhost:8080/"
        },
        "id": "9xBM4qRaojB2",
        "outputId": "27be31a8-6933-4203-9ddf-4f14b4b54ae8"
      },
      "source": [
        "from sklearn.neural_network import MLPClassifier\n",
        "clf = MLPClassifier(solver='lbfgs', alpha=1e-5, hidden_layer_sizes=(5,), random_state=1, max_iter=500)\n",
        "clf.fit(X_train, y_train)"
      ],
      "execution_count": null,
      "outputs": [
        {
          "output_type": "execute_result",
          "data": {
            "text/plain": [
              "MLPClassifier(activation='relu', alpha=1e-05, batch_size='auto', beta_1=0.9,\n",
              "              beta_2=0.999, early_stopping=False, epsilon=1e-08,\n",
              "              hidden_layer_sizes=(5,), learning_rate='constant',\n",
              "              learning_rate_init=0.001, max_fun=15000, max_iter=500,\n",
              "              momentum=0.9, n_iter_no_change=10, nesterovs_momentum=True,\n",
              "              power_t=0.5, random_state=1, shuffle=True, solver='lbfgs',\n",
              "              tol=0.0001, validation_fraction=0.1, verbose=False,\n",
              "              warm_start=False)"
            ]
          },
          "metadata": {
            "tags": []
          },
          "execution_count": 35
        }
      ]
    },
    {
      "cell_type": "code",
      "metadata": {
        "colab": {
          "base_uri": "https://localhost:8080/"
        },
        "id": "gi10s2Cmot_p",
        "outputId": "d1ac61ca-3ed2-4643-b876-cda20985ecd7"
      },
      "source": [
        "y_pred = clf.predict(X_test)\n",
        "print('Datos mal clasificados: %d' % (y_test != y_pred).sum())\n",
        "print('Precisión: %.2f' % clf.score(X_test, y_test))"
      ],
      "execution_count": null,
      "outputs": [
        {
          "output_type": "stream",
          "text": [
            "Datos mal clasificados: 11\n",
            "Precisión: 0.75\n"
          ],
          "name": "stdout"
        }
      ]
    },
    {
      "cell_type": "markdown",
      "metadata": {
        "id": "3etPTYU3z55M"
      },
      "source": [
        "La primera validación se realiza al variar el número de capas ocultas del perceptron, se toman capas desde 1 hasta 7 y en todas se les ubican 9 unidades neuronales."
      ]
    },
    {
      "cell_type": "code",
      "metadata": {
        "colab": {
          "base_uri": "https://localhost:8080/",
          "height": 419
        },
        "id": "KUXXIL_ao0Zr",
        "outputId": "a8ebe7a1-9110-470a-ca37-80c39d3f909b"
      },
      "source": [
        "from sklearn.model_selection import validation_curve\n",
        "param_range = [(9,)*1, (9,)*2, (9,)*3, (9,)*4, (9,)*5, (9,)*6, (9,)*7]\n",
        "param_range_1d = [1, 2, 3, 4, 5, 6, 7]\n",
        "train_scores, test_scores = validation_curve(\n",
        "                estimator=clf, \n",
        "                X=X_train, \n",
        "                y=y_train, \n",
        "                param_name='hidden_layer_sizes', \n",
        "                param_range=param_range,\n",
        "                cv=10)\n",
        "\n",
        "train_mean = np.mean(train_scores, axis=1)\n",
        "train_std = np.std(train_scores, axis=1)\n",
        "test_mean = np.mean(test_scores, axis=1)\n",
        "test_std = np.std(test_scores, axis=1)\n",
        "\n",
        "plt.plot(param_range_1d , train_mean, \n",
        "         color='blue', marker='o', \n",
        "         markersize=5, label='Precisión entrenamiento')\n",
        "\n",
        "plt.fill_between(param_range_1d , train_mean + train_std,\n",
        "                 train_mean - train_std, alpha=0.15,\n",
        "                 color='blue')\n",
        "\n",
        "plt.plot(param_range_1d , test_mean, \n",
        "         color='green', linestyle='--', \n",
        "         marker='s', markersize=5, \n",
        "         label='Precisión test')\n",
        "\n",
        "plt.fill_between(param_range_1d , \n",
        "                 test_mean + test_std,\n",
        "                 test_mean - test_std, \n",
        "                 alpha=0.15, color='green')\n",
        "\n",
        "plt.grid()\n",
        "plt.legend(loc='lower right')\n",
        "plt.xlabel('Número de capas ocultas')\n",
        "plt.ylabel('Accuracy')\n",
        "plt.ylim([0.3, 1.0])\n",
        "plt.tight_layout()\n",
        "plt.show()"
      ],
      "execution_count": null,
      "outputs": [
        {
          "output_type": "stream",
          "text": [
            "/usr/local/lib/python3.7/dist-packages/sklearn/neural_network/_multilayer_perceptron.py:470: ConvergenceWarning: lbfgs failed to converge (status=2):\n",
            "ABNORMAL_TERMINATION_IN_LNSRCH.\n",
            "\n",
            "Increase the number of iterations (max_iter) or scale the data as shown in:\n",
            "    https://scikit-learn.org/stable/modules/preprocessing.html\n",
            "  self.n_iter_ = _check_optimize_result(\"lbfgs\", opt_res, self.max_iter)\n"
          ],
          "name": "stderr"
        },
        {
          "output_type": "display_data",
          "data": {
            "image/png": "[encoded data removed]",
            "text/plain": [
              "<Figure size 432x288 with 1 Axes>"
            ]
          },
          "metadata": {
            "tags": [],
            "needs_background": "light"
          }
        }
      ]
    },
    {
      "cell_type": "markdown",
      "metadata": {
        "id": "b-HqaHkm0QQN"
      },
      "source": [
        "Ahora se realizará el mismo procedimiento pero variando el número de neuronas en la capa oculta, se tomara fijo 2 capas y se varia entre 2 y 40 neuronas en cada capa."
      ]
    },
    {
      "cell_type": "code",
      "metadata": {
        "colab": {
          "base_uri": "https://localhost:8080/",
          "height": 297
        },
        "id": "KVJLdcpQqJ-D",
        "outputId": "fdd78228-a9aa-4c54-985e-82602d456f9e"
      },
      "source": [
        "param_range = [(2,)*2, (5,)*2, (10,)*2, (15,)*2, (20,)*2, (25,)*2, (30,)*2, (40,)*2]\n",
        "param_range_1d = [2, 5, 10, 15, 20, 25, 30, 40]\n",
        "train_scores, test_scores = validation_curve(\n",
        "                estimator=clf, \n",
        "                X=X_train, \n",
        "                y=y_train, \n",
        "                param_name='hidden_layer_sizes', \n",
        "                param_range=param_range,\n",
        "                cv=5)\n",
        "\n",
        "train_mean = np.mean(train_scores, axis=1)\n",
        "train_std = np.std(train_scores, axis=1)\n",
        "test_mean = np.mean(test_scores, axis=1)\n",
        "test_std = np.std(test_scores, axis=1)\n",
        "\n",
        "plt.plot(param_range_1d , train_mean, \n",
        "         color='blue', marker='o', \n",
        "         markersize=5, label='Precisión entrenamiento')\n",
        "\n",
        "plt.fill_between(param_range_1d , train_mean + train_std,\n",
        "                 train_mean - train_std, alpha=0.15,\n",
        "                 color='blue')\n",
        "\n",
        "plt.plot(param_range_1d , test_mean, \n",
        "         color='green', linestyle='--', \n",
        "         marker='s', markersize=5, \n",
        "         label='Precisión test')\n",
        "\n",
        "plt.fill_between(param_range_1d , \n",
        "                 test_mean + test_std,\n",
        "                 test_mean - test_std, \n",
        "                 alpha=0.15, color='green')\n",
        "\n",
        "plt.grid()\n",
        "plt.legend(loc='lower right')\n",
        "plt.xlabel('Numero de neuronas configuración 2 capas ocultas')\n",
        "plt.ylabel('Accuracy')\n",
        "plt.ylim([0.5, 1.1])\n",
        "plt.tight_layout()\n",
        "plt.show()"
      ],
      "execution_count": null,
      "outputs": [
        {
          "output_type": "display_data",
          "data": {
            "image/png": "[encoded data removed]",
            "text/plain": [
              "<Figure size 432x288 with 1 Axes>"
            ]
          },
          "metadata": {
            "tags": [],
            "needs_background": "light"
          }
        }
      ]
    },
    {
      "cell_type": "markdown",
      "metadata": {
        "id": "3O7T53gv1FHB"
      },
      "source": [
        "Para probar el comportamiento del clasificador cuando se varia el número de neuronas en las capas ocultas y el número de capas, se realiza el siguiente ciclo en el cual se estan variando ambos hiperparametros."
      ]
    },
    {
      "cell_type": "code",
      "metadata": {
        "colab": {
          "base_uri": "https://localhost:8080/",
          "height": 993
        },
        "id": "LXW4aLh3sXZ9",
        "outputId": "b4d0fd88-55cb-42d9-ef33-b6009b9f5621"
      },
      "source": [
        "\n",
        "neuron_vector = [2, 6, 10, 15, 20, 25]\n",
        "k = 0 \n",
        "plt.figure(figsize=(25,4)) \n",
        "for neuron_unit  in neuron_vector:\n",
        "  if k == 0: \n",
        "    fig, axs = plt.subplots(1, 2) \n",
        "    \n",
        "  param_range = [(neuron_unit,)*1, (neuron_unit,)*2, (neuron_unit,)*3, (neuron_unit,)*4, (neuron_unit,)*5, (neuron_unit,)*6, (neuron_unit,)*7, (neuron_unit,)*8]\n",
        "  param_range_1d = [1, 2, 3, 4, 5, 6, 7, 8]\n",
        "  train_scores, test_scores = validation_curve(\n",
        "                  estimator=clf, \n",
        "                  X=X_train, \n",
        "                  y=y_train, \n",
        "                  param_name='hidden_layer_sizes', \n",
        "                  param_range=param_range,\n",
        "                  cv=15)\n",
        "\n",
        "  train_mean = np.mean(train_scores, axis=1)\n",
        "  train_std = np.std(train_scores, axis=1)\n",
        "  test_mean = np.mean(test_scores, axis=1)\n",
        "  test_std = np.std(test_scores, axis=1)\n",
        "\n",
        "  axs[k].plot(param_range_1d , train_mean, \n",
        "          color='blue', marker='o', \n",
        "          markersize=5, label='Precisión entrenamiento')\n",
        "\n",
        "  axs[k].fill_between(param_range_1d , train_mean + train_std,\n",
        "                  train_mean - train_std, alpha=0.15,\n",
        "                  color='blue')\n",
        "\n",
        "  axs[k].plot(param_range_1d , test_mean, \n",
        "          color='green', linestyle='--', \n",
        "          marker='s', markersize=5, \n",
        "          label='Precisión conjunto de pruebas')\n",
        "\n",
        "  axs[k].fill_between(param_range_1d , \n",
        "                  test_mean + test_std,\n",
        "                  test_mean - test_std, \n",
        "                  alpha=0.15, color='green')\n",
        "  \n",
        "  axs[k].grid()\n",
        "  axs[k].legend(loc='lower right')\n",
        "  axs[k].set_title('Presición vs número de capas para %d neuronas' % neuron_unit)\n",
        "  axs[k].set_xlabel('Número de capas ocultas')\n",
        "  axs[k].set_ylabel('Precision')\n",
        "  axs[k].set_ylim([0.4, 1.1])\n",
        "  k += 1\n",
        "  if k>= 2: k= 0\n",
        "  #axs[k].set_tight_layout()\n",
        "  #axs[k].show()"
      ],
      "execution_count": null,
      "outputs": [
        {
          "output_type": "stream",
          "text": [
            "/usr/local/lib/python3.7/dist-packages/sklearn/neural_network/_multilayer_perceptron.py:470: ConvergenceWarning: lbfgs failed to converge (status=2):\n",
            "ABNORMAL_TERMINATION_IN_LNSRCH.\n",
            "\n",
            "Increase the number of iterations (max_iter) or scale the data as shown in:\n",
            "    https://scikit-learn.org/stable/modules/preprocessing.html\n",
            "  self.n_iter_ = _check_optimize_result(\"lbfgs\", opt_res, self.max_iter)\n"
          ],
          "name": "stderr"
        },
        {
          "output_type": "display_data",
          "data": {
            "text/plain": [
              "<Figure size 1800x288 with 0 Axes>"
            ]
          },
          "metadata": {
            "tags": []
          }
        },
        {
          "output_type": "display_data",
          "data": {
            "image/png": "[encoded data removed]",
            "text/plain": [
              "<Figure size 432x288 with 2 Axes>"
            ]
          },
          "metadata": {
            "tags": [],
            "needs_background": "light"
          }
        },
        {
          "output_type": "display_data",
          "data": {
            "image/png": "[encoded data removed]",
            "text/plain": [
              "<Figure size 432x288 with 2 Axes>"
            ]
          },
          "metadata": {
            "tags": [],
            "needs_background": "light"
          }
        },
        {
          "output_type": "display_data",
          "data": {
            "image/png": "[encoded data removed]",
            "text/plain": [
              "<Figure size 432x288 with 2 Axes>"
            ]
          },
          "metadata": {
            "tags": [],
            "needs_background": "light"
          }
        }
      ]
    },
    {
      "cell_type": "markdown",
      "metadata": {
        "id": "eAnmbB_pO18c"
      },
      "source": [
        "# Perceptron Multicapa (Capítulo 12)\n",
        "\n",
        "En esta sección se construye el perceptron multicapa estudiado en el capítulo 12, la construcción del perceptron se realiza en la clase *NeuralNetMLP* "
      ]
    },
    {
      "cell_type": "code",
      "metadata": {
        "collapsed": true,
        "id": "If8-JMKDX2jg"
      },
      "source": [
        "import numpy as np\n",
        "import sys\n",
        "\n",
        "\n",
        "class NeuralNetMLP(object):\n",
        "    \"\"\" Feedforward neural network / Multi-layer perceptron classifier.\n",
        "\n",
        "    Parameters\n",
        "    ------------\n",
        "    n_hidden : int (default: 30)\n",
        "        Number of hidden units.\n",
        "    l2 : float (default: 0.)\n",
        "        Lambda value for L2-regularization.\n",
        "        No regularization if l2=0. (default)\n",
        "    epochs : int (default: 100)\n",
        "        Number of passes over the training set.\n",
        "    eta : float (default: 0.001)\n",
        "        Learning rate.\n",
        "    shuffle : bool (default: True)\n",
        "        Shuffles training data every epoch if True to prevent circles.\n",
        "    minibatche_size : int (default: 1)\n",
        "        Number of training samples per minibatch.\n",
        "    seed : int (default: None)\n",
        "        Random seed for initalizing weights and shuffling.\n",
        "\n",
        "    Attributes\n",
        "    -----------\n",
        "    eval_ : dict\n",
        "      Dictionary collecting the cost, training accuracy,\n",
        "      and validation accuracy for each epoch during training.\n",
        "\n",
        "    \"\"\"\n",
        "    def __init__(self, n_hidden=30,\n",
        "                 l2=0., epochs=100, eta=0.001,\n",
        "                 shuffle=True, minibatch_size=1, seed=None):\n",
        "\n",
        "        self.random = np.random.RandomState(seed)\n",
        "        self.n_hidden = n_hidden\n",
        "        self.l2 = l2\n",
        "        self.epochs = epochs\n",
        "        self.eta = eta\n",
        "        self.shuffle = shuffle\n",
        "        self.minibatch_size = minibatch_size\n",
        "\n",
        "    def _onehot(self, y, n_classes):\n",
        "        \"\"\"Encode labels into one-hot representation\n",
        "\n",
        "        Parameters\n",
        "        ------------\n",
        "        y : array, shape = [n_samples]\n",
        "            Target values.\n",
        "\n",
        "        Returns\n",
        "        -----------\n",
        "        onehot : array, shape = (n_samples, n_labels)\n",
        "\n",
        "        \"\"\"\n",
        "        onehot = np.zeros((n_classes, y.shape[0]))\n",
        "        for idx, val in enumerate(y.astype(int)):\n",
        "            onehot[val, idx] = 1.\n",
        "        return onehot.T\n",
        "\n",
        "    def _sigmoid(self, z):\n",
        "        \"\"\"Compute logistic function (sigmoid)\"\"\"\n",
        "        return 1. / (1. + np.exp(-np.clip(z, -250, 250)))\n",
        "\n",
        "    def _forward(self, X):\n",
        "        \"\"\"Compute forward propagation step\"\"\"\n",
        "\n",
        "        # step 1: net input of hidden layer\n",
        "        # [n_samples, n_features] dot [n_features, n_hidden]\n",
        "        # -> [n_samples, n_hidden]\n",
        "        z_h = np.dot(X, self.w_h) + self.b_h\n",
        "\n",
        "        # step 2: activation of hidden layer\n",
        "        a_h = self._sigmoid(z_h)\n",
        "\n",
        "        # step 3: net input of output layer\n",
        "        # [n_samples, n_hidden] dot [n_hidden, n_classlabels]\n",
        "        # -> [n_samples, n_classlabels]\n",
        "\n",
        "        z_out = np.dot(a_h, self.w_out) + self.b_out\n",
        "\n",
        "        # step 4: activation output layer\n",
        "        a_out = self._sigmoid(z_out)\n",
        "\n",
        "        return z_h, a_h, z_out, a_out\n",
        "\n",
        "    def _compute_cost(self, y_enc, output):\n",
        "        \"\"\"Compute cost function.\n",
        "\n",
        "        Parameters\n",
        "        ----------\n",
        "        y_enc : array, shape = (n_samples, n_labels)\n",
        "            one-hot encoded class labels.\n",
        "        output : array, shape = [n_samples, n_output_units]\n",
        "            Activation of the output layer (forward propagation)\n",
        "\n",
        "        Returns\n",
        "        ---------\n",
        "        cost : float\n",
        "            Regularized cost\n",
        "\n",
        "        \"\"\"\n",
        "        L2_term = (self.l2 *\n",
        "                   (np.sum(self.w_h ** 2.) +\n",
        "                    np.sum(self.w_out ** 2.)))\n",
        "\n",
        "        term1 = -y_enc * (np.log(output))\n",
        "        term2 = (1. - y_enc) * np.log(1. - output)\n",
        "        cost = np.sum(term1 - term2) + L2_term\n",
        "        return cost\n",
        "\n",
        "    def predict(self, X):\n",
        "        \"\"\"Predict class labels\n",
        "\n",
        "        Parameters\n",
        "        -----------\n",
        "        X : array, shape = [n_samples, n_features]\n",
        "            Input layer with original features.\n",
        "\n",
        "        Returns:\n",
        "        ----------\n",
        "        y_pred : array, shape = [n_samples]\n",
        "            Predicted class labels.\n",
        "\n",
        "        \"\"\"\n",
        "        z_h, a_h, z_out, a_out = self._forward(X)\n",
        "        y_pred = np.argmax(z_out, axis=1)\n",
        "        return y_pred\n",
        "\n",
        "    def fit(self, X_train, y_train, X_valid, y_valid):\n",
        "        \"\"\" Learn weights from training data.\n",
        "\n",
        "        Parameters\n",
        "        -----------\n",
        "        X_train : array, shape = [n_samples, n_features]\n",
        "            Input layer with original features.\n",
        "        y_train : array, shape = [n_samples]\n",
        "            Target class labels.\n",
        "        X_valid : array, shape = [n_samples, n_features]\n",
        "            Sample features for validation during training\n",
        "        y_valid : array, shape = [n_samples]\n",
        "            Sample labels for validation during training\n",
        "\n",
        "        Returns:\n",
        "        ----------\n",
        "        self\n",
        "\n",
        "        \"\"\"\n",
        "        n_output = np.unique(y_train).shape[0]  # number of class labels\n",
        "        n_features = X_train.shape[1]\n",
        "\n",
        "        ########################\n",
        "        # Weight initialization\n",
        "        ########################\n",
        "\n",
        "        # weights for input -> hidden\n",
        "        self.b_h = np.zeros(self.n_hidden)\n",
        "        self.w_h = self.random.normal(loc=0.0, scale=0.1,\n",
        "                                      size=(n_features, self.n_hidden))\n",
        "\n",
        "        # weights for hidden -> output\n",
        "        self.b_out = np.zeros(n_output)\n",
        "        self.w_out = self.random.normal(loc=0.0, scale=0.1,\n",
        "                                        size=(self.n_hidden, n_output))\n",
        "\n",
        "        epoch_strlen = len(str(self.epochs))  # for progress formatting\n",
        "        self.eval_ = {'cost': [], 'train_acc': [], 'valid_acc': []}\n",
        "\n",
        "        y_train_enc = self._onehot(y_train, n_output)\n",
        "\n",
        "        # iterate over training epochs\n",
        "        for i in range(self.epochs):\n",
        "\n",
        "            # iterate over minibatches\n",
        "            indices = np.arange(X_train.shape[0])\n",
        "\n",
        "            if self.shuffle:\n",
        "                self.random.shuffle(indices)\n",
        "\n",
        "            for start_idx in range(0, indices.shape[0] - self.minibatch_size +\n",
        "                                   1, self.minibatch_size):\n",
        "                batch_idx = indices[start_idx:start_idx + self.minibatch_size]\n",
        "\n",
        "                # forward propagation\n",
        "                z_h, a_h, z_out, a_out = self._forward(X_train[batch_idx])\n",
        "\n",
        "                ##################\n",
        "                # Backpropagation\n",
        "                ##################\n",
        "\n",
        "                # [n_samples, n_classlabels]\n",
        "                sigma_out = a_out - y_train_enc[batch_idx]\n",
        "\n",
        "                # [n_samples, n_hidden]\n",
        "                sigmoid_derivative_h = a_h * (1. - a_h)\n",
        "\n",
        "                # [n_samples, n_classlabels] dot [n_classlabels, n_hidden]\n",
        "                # -> [n_samples, n_hidden]\n",
        "                sigma_h = (np.dot(sigma_out, self.w_out.T) *\n",
        "                           sigmoid_derivative_h)\n",
        "\n",
        "                # [n_features, n_samples] dot [n_samples, n_hidden]\n",
        "                # -> [n_features, n_hidden]\n",
        "                grad_w_h = np.dot(X_train[batch_idx].T, sigma_h)\n",
        "                grad_b_h = np.sum(sigma_h, axis=0)\n",
        "\n",
        "                # [n_hidden, n_samples] dot [n_samples, n_classlabels]\n",
        "                # -> [n_hidden, n_classlabels]\n",
        "                grad_w_out = np.dot(a_h.T, sigma_out)\n",
        "                grad_b_out = np.sum(sigma_out, axis=0)\n",
        "\n",
        "                # Regularization and weight updates\n",
        "                delta_w_h = (grad_w_h + self.l2*self.w_h)\n",
        "                delta_b_h = grad_b_h # bias is not regularized\n",
        "                self.w_h -= self.eta * delta_w_h\n",
        "                self.b_h -= self.eta * delta_b_h\n",
        "\n",
        "                delta_w_out = (grad_w_out + self.l2*self.w_out)\n",
        "                delta_b_out = grad_b_out  # bias is not regularized\n",
        "                self.w_out -= self.eta * delta_w_out\n",
        "                self.b_out -= self.eta * delta_b_out\n",
        "\n",
        "            #############\n",
        "            # Evaluation\n",
        "            #############\n",
        "\n",
        "            # Evaluation after each epoch during training\n",
        "            z_h, a_h, z_out, a_out = self._forward(X_train)\n",
        "            \n",
        "            cost = self._compute_cost(y_enc=y_train_enc,\n",
        "                                      output=a_out)\n",
        "\n",
        "            y_train_pred = self.predict(X_train)\n",
        "            y_valid_pred = self.predict(X_valid)\n",
        "\n",
        "            train_acc = ((np.sum(y_train == y_train_pred)).astype(np.float) /\n",
        "                         X_train.shape[0])\n",
        "            valid_acc = ((np.sum(y_valid == y_valid_pred)).astype(np.float) /\n",
        "                         X_valid.shape[0])\n",
        "\n",
        "            sys.stderr.write('\\r%0*d/%d | Cost: %.2f '\n",
        "                             '| Train/Valid Acc.: %.2f%%/%.2f%% ' %\n",
        "                             (epoch_strlen, i+1, self.epochs, cost,\n",
        "                              train_acc*100, valid_acc*100))\n",
        "            sys.stderr.flush()\n",
        "\n",
        "            self.eval_['cost'].append(cost)\n",
        "            self.eval_['train_acc'].append(train_acc)\n",
        "            self.eval_['valid_acc'].append(valid_acc)\n",
        "\n",
        "        return self"
      ],
      "execution_count": null,
      "outputs": []
    },
    {
      "cell_type": "markdown",
      "metadata": {
        "id": "FYj_QBe8LK7D"
      },
      "source": [
        "### Calidad del Vino Rojo\n"
      ]
    },
    {
      "cell_type": "code",
      "metadata": {
        "id": "TS8H_kGtNCVO"
      },
      "source": [
        "from numpy import genfromtxt\n",
        "data_with_header = genfromtxt('/content/drive/MyDrive/Dataset/winequality-red.csv', delimiter=';')\n",
        "data = data_with_header[1::,:]\n",
        "x = data[:,0:-1]\n",
        "y = []\n",
        "for label in data[:,-1]:  y.append(int(label)) \n",
        "\n",
        "y_binary = []\n",
        "for label in data[:,-1]:  \n",
        "  if label >= 6: y_binary.append(0)\n",
        "  else: y_binary.append(1)"
      ],
      "execution_count": null,
      "outputs": []
    },
    {
      "cell_type": "code",
      "metadata": {
        "id": "fGAJjEnMNiqd"
      },
      "source": [
        "from sklearn.preprocessing import StandardScaler\n",
        "X_train, X_test, y_train, y_test = train_test_split(x, y_binary, \n",
        "                                                    test_size=0.3, \n",
        "                                                    random_state=1, \n",
        "                                                    stratify=y_binary)\n",
        "sc = StandardScaler()\n",
        "X_train_std = sc.fit_transform(X_train)\n",
        "X_test_std = sc.fit_transform(X_test)\n",
        "\n",
        "X_train = np.array(X_train_std)\n",
        "X_test = np.array(X_test)\n",
        "y_train = np.array(y_train)\n",
        "y_test = np.array(y_test)"
      ],
      "execution_count": null,
      "outputs": []
    },
    {
      "cell_type": "code",
      "metadata": {
        "id": "865fUMAHRZkl"
      },
      "source": [
        "#Parámetros Perceptron\n",
        "neuronas_ocultas = 15;\n",
        "epocas = 150;\n",
        "constante_aprendizaje = 0.00001;\n",
        "\n",
        "Perceptron_vino = NeuralNetMLP(n_hidden=neuronas_ocultas, \n",
        "                  epochs=epocas, \n",
        "                  eta=constante_aprendizaje,\n",
        "                  shuffle=True,\n",
        "                  seed=1)"
      ],
      "execution_count": null,
      "outputs": []
    },
    {
      "cell_type": "code",
      "metadata": {
        "colab": {
          "base_uri": "https://localhost:8080/"
        },
        "id": "nzYFZUzjL3kO",
        "outputId": "ec65e066-248b-4fa2-b44d-e7a83a2fcf7f"
      },
      "source": [
        "Perceptron_vino.fit(X_train=X_train, \n",
        "                    y_train=y_train,\n",
        "                    X_valid=X_test,\n",
        "                    y_valid=y_test)"
      ],
      "execution_count": null,
      "outputs": [
        {
          "output_type": "stream",
          "text": [
            "150/150 | Cost: 1545.25 | Train/Valid Acc.: 53.44%/53.54% "
          ],
          "name": "stderr"
        },
        {
          "output_type": "execute_result",
          "data": {
            "text/plain": [
              "<__main__.NeuralNetMLP at 0x7f21333ee5d0>"
            ]
          },
          "metadata": {
            "tags": []
          },
          "execution_count": 135
        }
      ]
    },
    {
      "cell_type": "code",
      "metadata": {
        "colab": {
          "base_uri": "https://localhost:8080/",
          "height": 279
        },
        "id": "zoBrFBF1Rtv9",
        "outputId": "39ae356c-a5d8-46fa-e893-30de26d3ed31"
      },
      "source": [
        "import matplotlib.pyplot as plt\n",
        "\n",
        "plt.plot(range(Perceptron_vino.epochs), Perceptron_vino.eval_['cost'])\n",
        "plt.ylabel('Costo')\n",
        "plt.xlabel('Epocas')\n",
        "plt.show()"
      ],
      "execution_count": null,
      "outputs": [
        {
          "output_type": "display_data",
          "data": {
            "image/png": "[encoded data removed]",
            "text/plain": [
              "<Figure size 432x288 with 1 Axes>"
            ]
          },
          "metadata": {
            "tags": [],
            "needs_background": "light"
          }
        }
      ]
    },
    {
      "cell_type": "code",
      "metadata": {
        "colab": {
          "base_uri": "https://localhost:8080/",
          "height": 282
        },
        "id": "X4nVYCENR7RO",
        "outputId": "2596ba14-75ea-4643-c005-a31e3fa45d18"
      },
      "source": [
        "plt.plot(range(Perceptron_vino.epochs), Perceptron_vino.eval_['train_acc'], '--')\n",
        "plt.plot(range(Perceptron_vino.epochs), Perceptron_vino.eval_['valid_acc'], '--')\n",
        "plt.ylabel('Precisión')\n",
        "plt.xlabel('Epocas')\n",
        "plt.show()"
      ],
      "execution_count": null,
      "outputs": [
        {
          "output_type": "display_data",
          "data": {
            "image/png": "[encoded data removed]",
            "text/plain": [
              "<Figure size 432x288 with 1 Axes>"
            ]
          },
          "metadata": {
            "tags": [],
            "needs_background": "light"
          }
        }
      ]
    },
    {
      "cell_type": "markdown",
      "metadata": {
        "id": "T0hQuowWTNkB"
      },
      "source": [
        "## Clasificación de vidrios"
      ]
    },
    {
      "cell_type": "code",
      "metadata": {
        "id": "d9U158GyTbsP"
      },
      "source": [
        "import scipy.io as sio\n",
        "data = sio.loadmat('/content/drive/MyDrive/Dataset/data_glass.mat')\n",
        "data = data['data']\n",
        "x = data[0:146,0:-1]\n",
        "y = []\n",
        "for label in data[0:146,-1]:  \n",
        "  if int(label) == 2:\n",
        "    y.append(0) \n",
        "  else:\n",
        "    y.append(1)\n",
        "\n",
        "X_train, X_test, y_train, y_test = train_test_split(x, y, test_size=0.2, random_state=1, stratify=y)\n",
        "sc = StandardScaler()\n",
        "X_train = sc.fit_transform(X_train)\n",
        "X_test = sc.fit_transform(X_test)\n",
        "\n",
        "X_train = np.array(X_train)\n",
        "X_test = np.array(X_test)\n",
        "y_train = np.array(y_train)\n",
        "y_test = np.array(y_test)"
      ],
      "execution_count": null,
      "outputs": []
    },
    {
      "cell_type": "code",
      "metadata": {
        "id": "yrCsy0JPT7Hw"
      },
      "source": [
        "#Parámetros Perceptron\n",
        "neuronas_ocultas = 25;\n",
        "epocas = 100;\n",
        "constante_aprendizaje = 0.001;\n",
        "\n",
        "Perceptron_vidrios = NeuralNetMLP(n_hidden=neuronas_ocultas, \n",
        "                                  epochs=epocas, \n",
        "                                  l2=0.01,\n",
        "                                  eta=constante_aprendizaje,\n",
        "                                  shuffle=True,\n",
        "                                  seed=1)"
      ],
      "execution_count": null,
      "outputs": []
    },
    {
      "cell_type": "code",
      "metadata": {
        "colab": {
          "base_uri": "https://localhost:8080/"
        },
        "id": "Gd96DqfvUc2t",
        "outputId": "ee0cfc06-ce29-4d32-b7bb-5e896ef2df3b"
      },
      "source": [
        "Perceptron_vidrios.fit(X_train=X_train, \n",
        "                        y_train=y_train,\n",
        "                        X_valid=X_test,\n",
        "                        y_valid=y_test)"
      ],
      "execution_count": null,
      "outputs": [
        {
          "output_type": "stream",
          "text": [
            "100/100 | Cost: 154.60 | Train/Valid Acc.: 62.93%/66.67% "
          ],
          "name": "stderr"
        },
        {
          "output_type": "execute_result",
          "data": {
            "text/plain": [
              "<__main__.NeuralNetMLP at 0x7f2126088ed0>"
            ]
          },
          "metadata": {
            "tags": []
          },
          "execution_count": 158
        }
      ]
    },
    {
      "cell_type": "code",
      "metadata": {
        "colab": {
          "base_uri": "https://localhost:8080/",
          "height": 279
        },
        "id": "jK-_XP-dU0Q2",
        "outputId": "1abf5732-8bb8-40b8-ce13-43d042ae5913"
      },
      "source": [
        "import matplotlib.pyplot as plt\n",
        "\n",
        "plt.plot(range(Perceptron_vidrios.epochs), Perceptron_vidrios.eval_['cost'])\n",
        "plt.ylabel('Costo')\n",
        "plt.xlabel('Epocas')\n",
        "plt.show()"
      ],
      "execution_count": null,
      "outputs": [
        {
          "output_type": "display_data",
          "data": {
            "image/png": "[encoded data removed]",
            "text/plain": [
              "<Figure size 432x288 with 1 Axes>"
            ]
          },
          "metadata": {
            "tags": [],
            "needs_background": "light"
          }
        }
      ]
    },
    {
      "cell_type": "code",
      "metadata": {
        "colab": {
          "base_uri": "https://localhost:8080/",
          "height": 279
        },
        "id": "NbjgDXKpU1O0",
        "outputId": "1a5a2b50-6cfc-47d2-9d7e-bf0a99687ad5"
      },
      "source": [
        "plt.plot(range(Perceptron_vidrios.epochs), Perceptron_vidrios.eval_['train_acc'], '--')\n",
        "plt.plot(range(Perceptron_vidrios.epochs), Perceptron_vidrios.eval_['valid_acc'], '--')\n",
        "plt.ylabel('Precisión')\n",
        "plt.xlabel('Epocas')\n",
        "plt.show()"
      ],
      "execution_count": null,
      "outputs": [
        {
          "output_type": "display_data",
          "data": {
            "image/png": "[encoded data removed]",
            "text/plain": [
              "<Figure size 432x288 with 1 Axes>"
            ]
          },
          "metadata": {
            "tags": [],
            "needs_background": "light"
          }
        }
      ]
    },
    {
      "cell_type": "markdown",
      "metadata": {
        "id": "0GuQjU1eHpho"
      },
      "source": [
        "## Parametro de regularización"
      ]
    },
    {
      "cell_type": "markdown",
      "metadata": {
        "id": "OpeNwB9HIqM4"
      },
      "source": [
        ""
      ]
    },
    {
      "cell_type": "code",
      "metadata": {
        "id": "rUp6MlbQI3nj"
      },
      "source": [
        "from numpy import genfromtxt\n",
        "data_with_header = genfromtxt('/content/drive/MyDrive/Dataset/winequality-red.csv', delimiter=';')\n",
        "data = data_with_header[1::,:]\n",
        "x = data[:,0:-1]\n",
        "y = []\n",
        "for label in data[:,-1]:  y.append(int(label)) \n",
        "\n",
        "y_binary = []\n",
        "for label in data[:,-1]:  \n",
        "  if label >= 6: y_binary.append(0)\n",
        "  else: y_binary.append(1)"
      ],
      "execution_count": null,
      "outputs": []
    },
    {
      "cell_type": "code",
      "metadata": {
        "id": "G_UtGfVnI5jh"
      },
      "source": [
        "from sklearn.preprocessing import StandardScaler\n",
        "X_train, X_test, y_train, y_test = train_test_split(x, y_binary, \n",
        "                                                    test_size=0.3, \n",
        "                                                    random_state=1, \n",
        "                                                    stratify=y_binary)\n",
        "sc = StandardScaler()\n",
        "X_train_std = sc.fit_transform(X_train)\n",
        "X_test_std = sc.fit_transform(X_test)\n",
        "\n",
        "X_train = np.array(X_train_std)\n",
        "X_test = np.array(X_test)\n",
        "y_train = np.array(y_train)\n",
        "y_test = np.array(y_test)"
      ],
      "execution_count": null,
      "outputs": []
    },
    {
      "cell_type": "code",
      "metadata": {
        "colab": {
          "base_uri": "https://localhost:8080/"
        },
        "id": "AAjN4HE2JI_Y",
        "outputId": "8fc6bddc-9cd1-416b-a7e5-7545049ad424"
      },
      "source": [
        "neuronas_ocultas = 15;\n",
        "epocas = 100;\n",
        "constante_aprendizaje = 0.00001;\n",
        "L2 = np.round(np.arange(1.5,2.5,0.1),2); #tercera\n",
        "#L2= np.round(np.arange(0.0,4.5,0.5),2); #busqueda media\n",
        "#L2= np.round(np.arange(0.0,10,1),2); #busqueda inicial \n",
        "acc_train = np.zeros(len(L2))\n",
        "acc_test = np.zeros(len(L2))\n",
        "cost = np.zeros(len(L2))\n",
        "k = 0;\n",
        "for i in L2:\n",
        "  Perceptron_vino = NeuralNetMLP(n_hidden=neuronas_ocultas, \n",
        "                      l2=i,\n",
        "                      epochs=epocas, \n",
        "                      eta=constante_aprendizaje,\n",
        "                      shuffle=True,\n",
        "                      seed=1)\n",
        "  Perceptron_vino.fit(X_train=X_train, \n",
        "                      y_train=y_train,\n",
        "                      X_valid=X_test,\n",
        "                      y_valid=y_test)\n",
        "  acc_train[k]=Perceptron_vino.eval_['train_acc'][-1]\n",
        "  acc_test[k] =Perceptron_vino.eval_['valid_acc'][-1]\n",
        "  cost[k] = Perceptron_vino.eval_['cost'][-1]\n",
        "  k +=1"
      ],
      "execution_count": null,
      "outputs": [
        {
          "output_type": "stream",
          "text": [
            "100/100 | Cost: 1547.50 | Train/Valid Acc.: 53.44%/53.54% "
          ],
          "name": "stderr"
        }
      ]
    },
    {
      "cell_type": "code",
      "metadata": {
        "colab": {
          "base_uri": "https://localhost:8080/",
          "height": 554
        },
        "id": "HPTzgfPaL95k",
        "outputId": "17bd8bde-485f-49cb-c6a7-c02a624beb05"
      },
      "source": [
        "plt.plot(L2, acc_train, '--', label='Entrenamiento')\n",
        "plt.plot(L2, acc_test, '--', label = 'Validación')\n",
        "plt.ylabel('Precisión')\n",
        "plt.xlabel('Parametro de regularización')\n",
        "plt.legend()\n",
        "plt.show()\n",
        "\n",
        "plt.plot(L2, cost, label = 'Costo')\n",
        "plt.ylabel('Costo')\n",
        "plt.xlabel('Parametro de regularización')\n",
        "plt.show()"
      ],
      "execution_count": null,
      "outputs": [
        {
          "output_type": "display_data",
          "data": {
            "image/png": "[encoded data removed]",
            "text/plain": [
              "<Figure size 432x288 with 1 Axes>"
            ]
          },
          "metadata": {
            "tags": [],
            "needs_background": "light"
          }
        },
        {
          "output_type": "display_data",
          "data": {
            "image/png": "[encoded data removed]",
            "text/plain": [
              "<Figure size 432x288 with 1 Axes>"
            ]
          },
          "metadata": {
            "tags": [],
            "needs_background": "light"
          }
        }
      ]
    },
    {
      "cell_type": "markdown",
      "metadata": {
        "id": "5Zq4qpBu3UOA"
      },
      "source": [
        "# Perceptron Multicapa (Capítulo 13)\n",
        "\n",
        "En esta sección se construyen redes neuronales profundas con ayuda de la API Keras de TensorFlow conceptos estudiados en el capítulo 13. Comenzamos importando las librerias de TensorFlow, "
      ]
    },
    {
      "cell_type": "code",
      "metadata": {
        "id": "EvDyKYlx4aOG"
      },
      "source": [
        "import tensorflow as tf\n",
        "import tensorflow.compat.v1 as tf\n",
        "tf.disable_v2_behavior() \n",
        "import keras as keras\n",
        "np.random.seed(123)\n",
        "tf.set_random_seed(123)"
      ],
      "execution_count": null,
      "outputs": []
    },
    {
      "cell_type": "markdown",
      "metadata": {
        "id": "pETfcmSM5Jvu"
      },
      "source": [
        "El siguiente paso es cargar los datos, si los datos tiene categorias o etiquetas numeradas (1,2..) o (clase1, clase2, ..) es necesario llevar estas categorias a la representación one-hot, sistema en el cual la salida de la red neuronal sera un vector de $s$ posiciones donde $s$ es el número de clases. Las etiquetas tendran la forma de vectores con entradas cero en todas las posiciones menos en la posición $i$ que representa la clase a la cual pertenece. \n",
        "\n",
        "Por ejemplo para un sistema de tres clases identificadas con $(1,2,3)$, los vectores asociados en representación one_hot serán:\n",
        "\n",
        "$$(1,2,3)= [1 \\ 0 \\ 0]^T; [0 \\ 1 \\ 0]^T; [0 \\ 0 \\ 1]^T $$\n"
      ]
    },
    {
      "cell_type": "code",
      "metadata": {
        "colab": {
          "base_uri": "https://localhost:8080/"
        },
        "id": "RvWatfxu4fUL",
        "outputId": "5b653291-f98e-4c15-b4a2-08fc3f3b20e3"
      },
      "source": [
        "from numpy import genfromtxt\n",
        "data_with_header = genfromtxt('/content/drive/MyDrive/Dataset/winequality-red.csv', delimiter=';')\n",
        "data = data_with_header[1::,:]\n",
        "x = data[:,0:-1]\n",
        "y = []\n",
        "for label in data[:,-1]:  y.append(int(label)) \n",
        "\n",
        "y_one_hot = keras.utils.to_categorical(y)\n",
        "\n",
        "y_binary = []\n",
        "for label in data[:,-1]:  \n",
        "  if label >= 6: y_binary.append(0)\n",
        "  else: y_binary.append(1)\n",
        "\n",
        "print(y_one_hot)"
      ],
      "execution_count": null,
      "outputs": [
        {
          "output_type": "stream",
          "text": [
            "[[0. 0. 0. ... 0. 0. 0.]\n",
            " [0. 0. 0. ... 0. 0. 0.]\n",
            " [0. 0. 0. ... 0. 0. 0.]\n",
            " ...\n",
            " [0. 0. 0. ... 1. 0. 0.]\n",
            " [0. 0. 0. ... 0. 0. 0.]\n",
            " [0. 0. 0. ... 1. 0. 0.]]\n"
          ],
          "name": "stdout"
        }
      ]
    },
    {
      "cell_type": "code",
      "metadata": {
        "colab": {
          "base_uri": "https://localhost:8080/"
        },
        "id": "NK3nmx4H6q9E",
        "outputId": "7e41a2ed-e3b1-443f-9164-7247921020e4"
      },
      "source": [
        "from sklearn.preprocessing import StandardScaler\n",
        "X_train, X_test, y_train, y_test = train_test_split(x, y_binary, \n",
        "                                                    test_size=0.3, \n",
        "                                                    random_state=1, \n",
        "                                                    stratify=y_binary)\n",
        "sc = StandardScaler()\n",
        "X_train_std = sc.fit_transform(X_train)\n",
        "X_test_std = sc.fit_transform(X_test)\n",
        "\n",
        "X_train = np.array(X_train_std)\n",
        "X_test = np.array(X_test)\n",
        "y_train = np.array(y_train)\n",
        "y_test = np.array(y_test)\n",
        "\n",
        "print(X_train.shape[1])"
      ],
      "execution_count": null,
      "outputs": [
        {
          "output_type": "stream",
          "text": [
            "11\n"
          ],
          "name": "stdout"
        }
      ]
    },
    {
      "cell_type": "markdown",
      "metadata": {
        "id": "PYesXoON7EY-"
      },
      "source": [
        "Coonstrucción del modelo en Keras"
      ]
    },
    {
      "cell_type": "code",
      "metadata": {
        "id": "gkLBWhV06db9"
      },
      "source": [
        "model = keras.models.Sequential()\n",
        "\n",
        "model.add(\n",
        "    keras.layers.Dense(\n",
        "        units=22,    \n",
        "        input_dim=X_train.shape[1],\n",
        "        kernel_initializer='glorot_uniform',\n",
        "        bias_initializer='zeros',\n",
        "        activation='tanh'))\n",
        "\n",
        "model.add(\n",
        "    keras.layers.Dense(\n",
        "        units=44,    \n",
        "        input_dim=22,\n",
        "        kernel_initializer='glorot_uniform',\n",
        "        bias_initializer='zeros',\n",
        "        activation='tanh'))\n",
        "\n",
        "model.add(\n",
        "    keras.layers.Dense(\n",
        "        units=22,    \n",
        "        input_dim=44,\n",
        "        kernel_initializer='glorot_uniform',\n",
        "        bias_initializer='zeros',\n",
        "        activation='tanh'))\n",
        "\n",
        "model.add(\n",
        "    keras.layers.Dense(\n",
        "        units=22,    \n",
        "        input_dim=22,\n",
        "        kernel_initializer='glorot_uniform',\n",
        "        bias_initializer='zeros',\n",
        "        activation='tanh'))\n",
        "model.add(\n",
        "    keras.layers.Dense(\n",
        "        units=22,    \n",
        "        input_dim=22,\n",
        "        kernel_initializer='glorot_uniform',\n",
        "        bias_initializer='zeros',\n",
        "        activation='tanh'))\n",
        "\n",
        "model.add(\n",
        "    keras.layers.Dense(\n",
        "        units=1,    \n",
        "        input_dim=22,\n",
        "        kernel_initializer='glorot_uniform',\n",
        "        bias_initializer='zeros',\n",
        "        activation='sigmoid'))\n",
        "\n",
        "\n",
        "sgd_optimizer = keras.optimizers.SGD(\n",
        "        lr=0.001, decay=1e-7, momentum=.9)\n",
        "\n",
        "#model.compile(optimizer=sgd_optimizer, loss='categorical_crossentropy') \n",
        "#model.compile(optimizer=sgd_optimizer, loss='sparse_categorical_crossentropy')\n",
        "model.compile(optimizer=sgd_optimizer, loss='binary_crossentropy')"
      ],
      "execution_count": null,
      "outputs": []
    },
    {
      "cell_type": "code",
      "metadata": {
        "colab": {
          "base_uri": "https://localhost:8080/"
        },
        "id": "4tMjAbGY7J74",
        "outputId": "508456dc-7f15-4988-c23c-e6d7f270f5c7"
      },
      "source": [
        "history = model.fit(X_train, y_train,\n",
        "                    batch_size=5, epochs=10,\n",
        "                    verbose=1, \n",
        "                    validation_split=0.4)"
      ],
      "execution_count": null,
      "outputs": [
        {
          "output_type": "stream",
          "text": [
            "Train on 671 samples, validate on 448 samples\n",
            "Epoch 1/10\n",
            "671/671 [==============================] - 0s 334us/sample - loss: 0.0423 - val_loss: 0.8135\n",
            "Epoch 2/10\n",
            "671/671 [==============================] - 0s 343us/sample - loss: 0.0374 - val_loss: 0.8600\n",
            "Epoch 3/10\n",
            "671/671 [==============================] - 0s 364us/sample - loss: 0.0458 - val_loss: 0.8524\n",
            "Epoch 4/10\n",
            "671/671 [==============================] - 0s 354us/sample - loss: 0.0423 - val_loss: 0.8343\n",
            "Epoch 5/10\n",
            "671/671 [==============================] - 0s 351us/sample - loss: 0.0883 - val_loss: 0.8864\n",
            "Epoch 6/10\n",
            "671/671 [==============================] - 0s 356us/sample - loss: 0.0358 - val_loss: 0.8832\n",
            "Epoch 7/10\n",
            "671/671 [==============================] - 0s 362us/sample - loss: 0.0425 - val_loss: 0.8712\n",
            "Epoch 8/10\n",
            "671/671 [==============================] - 0s 350us/sample - loss: 0.0466 - val_loss: 0.8906\n",
            "Epoch 9/10\n",
            "671/671 [==============================] - 0s 364us/sample - loss: 0.0358 - val_loss: 0.8795\n",
            "Epoch 10/10\n",
            "671/671 [==============================] - 0s 341us/sample - loss: 0.0311 - val_loss: 0.8759\n"
          ],
          "name": "stdout"
        }
      ]
    },
    {
      "cell_type": "code",
      "metadata": {
        "colab": {
          "base_uri": "https://localhost:8080/"
        },
        "id": "VHXl0f9t7a0Z",
        "outputId": "15d817ec-28a9-480d-dc8b-b5425c1b3501"
      },
      "source": [
        "y_train_pred = model.predict_classes(X_train, verbose=0)\n",
        "y_train_pred_array = np.zeros(len(y_train_pred))\n",
        "k=0\n",
        "for x in y_train_pred:\n",
        "  #print(x)\n",
        "  y_train_pred_array[k] = x[0]\n",
        "  k+=1\n",
        "#print(y_train_pred_array)\n",
        "correct_preds = np.sum(y_train == y_train_pred_array, axis=0) \n",
        "train_acc = correct_preds / y_train.shape[0]\n",
        "\n",
        "\n",
        "print('Training accuracy: %.2f%%' % (train_acc * 100))\n",
        "\n",
        "y_test_pred = model.predict_classes(X_test, verbose=0)\n",
        "y_test_pred_array = np.zeros(len(y_test_pred))\n",
        "k=0\n",
        "for x in y_test_pred:\n",
        "  y_test_pred_array[k] = x[0]\n",
        "  k+=1\n",
        "correct_preds = np.sum(y_test == y_test_pred_array, axis=0) \n",
        "test_acc = correct_preds / y_test.shape[0]\n",
        "print('Test accuracy: %.2f%%' % (test_acc * 100))\n"
      ],
      "execution_count": null,
      "outputs": [
        {
          "output_type": "stream",
          "text": [
            "Training accuracy: 92.67%\n",
            "Test accuracy: 60.00%\n"
          ],
          "name": "stdout"
        },
        {
          "output_type": "stream",
          "text": [
            "/usr/local/lib/python3.7/dist-packages/tensorflow/python/keras/engine/sequential.py:450: UserWarning: `model.predict_classes()` is deprecated and will be removed after 2021-01-01. Please use instead:* `np.argmax(model.predict(x), axis=-1)`,   if your model does multi-class classification   (e.g. if it uses a `softmax` last-layer activation).* `(model.predict(x) > 0.5).astype(\"int32\")`,   if your model does binary classification   (e.g. if it uses a `sigmoid` last-layer activation).\n",
            "  warnings.warn('`model.predict_classes()` is deprecated and '\n"
          ],
          "name": "stderr"
        }
      ]
    }
  ]
}